{
 "cells": [
  {
   "cell_type": "markdown",
   "metadata": {
    "id": "MA-j0cyl2rAk"
   },
   "source": [
    "# **Para *ler* Machado de Assis**\n",
    "\n",
    "  Neste exemplo, utilizamos *shell scripts* para análise computacional da obra de Machado."
   ]
  },
  {
   "cell_type": "markdown",
   "metadata": {
    "id": "cBuiAJ-y20fQ"
   },
   "source": [
    "## Obras completas\n",
    "\n",
    "As obras são de domínio público e estão disponíveis em http://machado.mec.gov.br.\n",
    "\n",
    "Embora [Luiz Amaral](https://github.com/luxedo) tenha publicado um [dataset](https://www.kaggle.com/datasets/luxedo/machado-de-assis) no [kaggle](https://www.kaggle.com/), contendo as obras completas, decidimos criar um *script* executável para realizar o download diretamente na página do MEC."
   ]
  },
  {
   "cell_type": "markdown",
   "metadata": {
    "id": "KRS9XS1q3SwX"
   },
   "source": [
    "## Download das obras de Machado de Assis"
   ]
  },
  {
   "cell_type": "code",
   "execution_count": 2,
   "metadata": {
    "id": "b13eJUWA3GyC"
   },
   "outputs": [],
   "source": [
    "cat > download_machado.sh << 'EOF'\n",
    "#!/bin/bash\n",
    "\n",
    "# Pasta onde os arquivos serão baixados e convertidos\n",
    "PASTA=\"Machado\"\n",
    "mkdir -p \"$PASTA\"\n",
    "cd \"$PASTA\" || exit\n",
    "\n",
    "# Arquivo único para o corpus completo\n",
    "ARQUIVO_COMPLETO=\"machado_de_assis_completo.txt\"\n",
    "> \"$ARQUIVO_COMPLETO\"\n",
    "\n",
    "# URL base da página com as obras de Machado de Assis\n",
    "BASE_URL=\"https://machado.mec.gov.br/obra-completa-lista?start=\"\n",
    "\n",
    "# Função para baixar e converter obras em PDF para texto\n",
    "download_obras() {\n",
    "    local url=\"$1\"\n",
    "    echo \"Processando página: $url\"\n",
    "\n",
    "    # Baixa a página HTML\n",
    "    local pagina=$(curl -s \"$url\")\n",
    "\n",
    "    # Extrai os links de download dos PDFs\n",
    "    local links=$(echo \"$pagina\" | grep -oP '/obra-completa-lista/item/download/[^\"]+' | sort -u)\n",
    "\n",
    "    # Contador para progresso\n",
    "    local total=$(echo \"$links\" | wc -l)\n",
    "    local contador=0\n",
    "\n",
    "    [ -z \"$links\" ] && echo \"Nenhum link encontrado nesta página.\" && return\n",
    "\n",
    "    echo \"Encontrados $total arquivos nesta página\"\n",
    "\n",
    "    for link in $links; do\n",
    "        contador=$((contador+1))\n",
    "\n",
    "        # Constrói o URL completo\n",
    "        local full_url=\"https://machado.mec.gov.br$link\"\n",
    "\n",
    "        # Extrai o nome do arquivo a partir do URL\n",
    "        local file_name=$(basename \"$link\" | cut -d'_' -f2-)\n",
    "        file_name=\"${file_name%.*}.pdf\"  # Garante extensão .pdf\n",
    "\n",
    "        # Nome do arquivo de texto\n",
    "        local txt_file_name=\"${file_name%.*}.txt\"\n",
    "\n",
    "        echo -e \"\\n[${contador}/${total}] Processando: $file_name\"\n",
    "\n",
    "        # Verifica se já existe um arquivo de texto correspondente\n",
    "        if [ -f \"$txt_file_name\" ]; then\n",
    "            echo \"Arquivo de texto já existe. Pulando conversão.\"\n",
    "        else\n",
    "            # Verifica se o arquivo PDF já existe no diretório\n",
    "            if [ ! -f \"$file_name\" ]; then\n",
    "                # Faz o download do arquivo\n",
    "                echo \"Baixando: $full_url\"\n",
    "                curl -s -L -o \"$file_name\" \"$full_url\" || {\n",
    "                    echo \"Erro ao baixar $full_url\"\n",
    "                    continue\n",
    "                }\n",
    "            else\n",
    "                echo \"Arquivo PDF já existe. Pulando download.\"\n",
    "            fi\n",
    "\n",
    "            # Converte o arquivo PDF para texto\n",
    "            if [ -f \"$file_name\" ]; then\n",
    "                echo \"Convertendo para texto...\"\n",
    "                pdftotext \"$file_name\" \"$txt_file_name\" || {\n",
    "                    echo \"Erro ao converter $file_name\"\n",
    "                    continue\n",
    "                }\n",
    "\n",
    "                # Remove o arquivo PDF original se a conversão foi bem-sucedida\n",
    "                rm \"$file_name\"\n",
    "                echo \"Arquivo PDF removido.\"\n",
    "            fi\n",
    "        fi\n",
    "\n",
    "        # Adiciona o conteúdo ao arquivo completo\n",
    "        if [ -f \"$txt_file_name\" ]; then\n",
    "            # Extrai o título da primeira linha\n",
    "            local titulo=$(head -n 1 \"$txt_file_name\" | sed 's/^[ \\t]*//;s/[ \\t]*$//')\n",
    "\n",
    "            # Se o título estiver vazio, usa o nome do arquivo\n",
    "            if [ -z \"$titulo\" ]; then\n",
    "                titulo=\"${file_name%.*}\"\n",
    "            fi\n",
    "\n",
    "            echo \"Adicionando: $titulo\"\n",
    "            echo \"## $titulo\" >> \"$ARQUIVO_COMPLETO\"\n",
    "            echo \"Arquivo: $txt_file_name\" >> \"$ARQUIVO_COMPLETO\"\n",
    "            echo \"\" >> \"$ARQUIVO_COMPLETO\"\n",
    "            tail -n +2 \"$txt_file_name\" >> \"$ARQUIVO_COMPLETO\"\n",
    "            echo -e \"\\n\\n\" >> \"$ARQUIVO_COMPLETO\"\n",
    "        fi\n",
    "    done\n",
    "}\n",
    "\n",
    "# Realiza o download das obras em todas as páginas\n",
    "# Considerando 10 páginas com 12 itens cada\n",
    "for start in $(seq 0 12 120); do\n",
    "    url=\"${BASE_URL}${start}\"\n",
    "    download_obras \"$url\"\n",
    "done\n",
    "\n",
    "echo -e \"\\nProcessamento concluído. Arquivo completo salvo em: $PASTA/$ARQUIVO_COMPLETO\"\n",
    "EOF"
   ]
  },
  {
   "cell_type": "code",
   "execution_count": 3,
   "metadata": {},
   "outputs": [],
   "source": [
    " chmod +x download_machado.sh"
   ]
  },
  {
   "cell_type": "code",
   "execution_count": 17,
   "metadata": {},
   "outputs": [
    {
     "name": "stdout",
     "output_type": "stream",
     "text": [
      "Processando página: https://machado.mec.gov.br/obra-completa-lista?start=0\n",
      "Encontrados 12 arquivos nesta página\n",
      "\n",
      "[1/12] Processando: 621e64c83ad88459ac9c521392367e7b.pdf\n",
      "Arquivo de texto já existe. Pulando conversão.\n",
      "Adicionando: A crítica teatral. José de Alencar : Mãe\n",
      "\n",
      "[2/12] Processando: c5058b5e27086aa7f3fa5babfb0fe1e7.pdf\n",
      "Arquivo de texto já existe. Pulando conversão.\n",
      "Adicionando: Revista Dramática\n",
      "\n",
      "[3/12] Processando: 64ebf20b050d205ce767e347fcee4770.pdf\n",
      "Arquivo de texto já existe. Pulando conversão.\n",
      "Adicionando: Revista dos Teatros\n",
      "\n",
      "[4/12] Processando: abf8892d55251c1c41a36f3a2638fdc4.pdf\n",
      "Arquivo de texto já existe. Pulando conversão.\n",
      "Adicionando: Idéias sobre o Teatro\n",
      "\n",
      "[5/12] Processando: ec79144c60084d0db9c43607aea29acf.pdf\n",
      "Arquivo de texto já existe. Pulando conversão.\n",
      "Adicionando: O passado, o presente e o futuro da literatura\n",
      "\n",
      "[6/12] Processando: 0af31ceb4dfe012aaa6ce7b7c9e11373.pdf\n",
      "Arquivo de texto já existe. Pulando conversão.\n",
      "Adicionando: Os imortais\n",
      "\n",
      "[7/12] Processando: fdd28bd9d8c25b14cca68ead1fa7f863.pdf\n",
      "Arquivo de texto já existe. Pulando conversão.\n",
      "Adicionando: Poesias dispersas\n",
      "\n",
      "[8/12] Processando: e3bf116a00fa21fdaee678fb5de87655.pdf\n",
      "Arquivo de texto já existe. Pulando conversão.\n",
      "Adicionando: Aquarelas\n",
      "\n",
      "[9/12] Processando: db0a7ea10d6f1ac516e2a82b8668ae8d.pdf\n",
      "Arquivo de texto já existe. Pulando conversão.\n",
      "Adicionando: A Reforma pelo jornal\n",
      "\n",
      "[10/12] Processando: 740508795dff6e76435fcbbee1a1fb76.pdf\n",
      "Arquivo de texto já existe. Pulando conversão.\n",
      "Adicionando: O jornal e o livro [1]\n",
      "\n",
      "[11/12] Processando: 5fc184858b6f41854692f4482de43255.pdf\n",
      "Arquivo de texto já existe. Pulando conversão.\n",
      "Adicionando: Desencantos\n",
      "\n",
      "[12/12] Processando: 2456db395626c26eb37c60a13065caec.pdf\n",
      "Arquivo de texto já existe. Pulando conversão.\n",
      "Adicionando: Hoje avental, amanhã luva\n",
      "Processando página: https://machado.mec.gov.br/obra-completa-lista?start=12\n",
      "Encontrados 12 arquivos nesta página\n",
      "\n",
      "[1/12] Processando: c07359bd2c22aaa2e21a11643600752d.pdf\n",
      "Arquivo de texto já existe. Pulando conversão.\n",
      "Adicionando: Revelações. Poesias de A. E. Zaluar, Garnier editor, 1863.\n",
      "\n",
      "[2/12] Processando: 5a6e6c92a2b2b977cfeebd3f575cc411.pdf\n",
      "Baixando: https://machado.mec.gov.br/obra-completa-lista/item/download/110_5a6e6c92a2b2b977cfeebd3f575cc411\n",
      "Convertendo para texto...\n",
      "Arquivo PDF removido.\n",
      "Adicionando: Peregrinação pela província de S. Paulo. por A. E. Zaluar, 1863, Garnier, editor.\n",
      "\n",
      "[3/12] Processando: 729fca7fae6ffa32f4e2a1955b93c9ef.pdf\n",
      "Arquivo de texto já existe. Pulando conversão.\n",
      "Adicionando: A Constituinte perante a história, pelo sr. Homem de Mello. — Sombras e Luz, do sr. B.\n",
      "\n",
      "[4/12] Processando: 5f6ed6ebdd45cd22a4c0d138176c2aa5.pdf\n",
      "Arquivo de texto já existe. Pulando conversão.\n",
      "Adicionando: Pareceres de Machado de Assis a diversas peças teatrais\n",
      "\n",
      "[5/12] Processando: 2494e73f752ddec10ef00164e662fb37.pdf\n",
      "Arquivo de texto já existe. Pulando conversão.\n",
      "Adicionando: Flores e frutos. Poesias por Bruno Seabra, Garnier editor, 1862.\n",
      "\n",
      "[6/12] Processando: 300b91eab9a0a0e2333d414420ba7c39.pdf\n",
      "Arquivo de texto já existe. Pulando conversão.\n",
      "Adicionando: Compêndio da Gramática Portuguesa, por Vergueiro e Pertence. — À memória de\n",
      "\n",
      "[7/12] Processando: 6de80b3d1f80021f46d6354d5cc46f31.pdf\n",
      "Arquivo de texto já existe. Pulando conversão.\n",
      "Adicionando: Carta ao Sr. Bispo do Rio de Janeiro\n",
      "\n",
      "[8/12] Processando: 3c8cea5509d680ffc00f882219bb9e7f.pdf\n",
      "Arquivo de texto já existe. Pulando conversão.\n",
      "Adicionando: Queda que as mulheres têm para os tolos\n",
      "\n",
      "[9/12] Processando: a7145781a7ec71581370499bd10fca24.pdf\n",
      "Arquivo de texto já existe. Pulando conversão.\n",
      "Adicionando: Crônicas\n",
      "\n",
      "[10/12] Processando: 91a8334e492806f21af56c0dc876db6f.pdf\n",
      "Arquivo de texto já existe. Pulando conversão.\n",
      "Adicionando: Crônicas do Dr. Semana\n",
      "\n",
      "[11/12] Processando: 31588f38b2cdca0afb1c56e15b408e4f.pdf\n",
      "Arquivo de texto já existe. Pulando conversão.\n",
      "Adicionando: Comentários da semana\n",
      "\n",
      "[12/12] Processando: 981cc2f9596d08372e59a557b3aa0db9.pdf\n",
      "Arquivo de texto já existe. Pulando conversão.\n",
      "Adicionando: O caminho da porta\n",
      "Processando página: https://machado.mec.gov.br/obra-completa-lista?start=24\n",
      "Encontrados 12 arquivos nesta página\n",
      "\n",
      "[1/12] Processando: bb3e3e5fc15cba1db53ae1223b2721dd.pdf\n",
      "Arquivo de texto já existe. Pulando conversão.\n",
      "Adicionando: Porto Alegre: Colombo\n",
      "\n",
      "[2/12] Processando: 97b4c5683060948000a5a3fdf295eab8.pdf\n",
      "Arquivo de texto já existe. Pulando conversão.\n",
      "Adicionando: Junqueira Freire: Inspirações do claustro\n",
      "\n",
      "[3/12] Processando: 172f52621103b604c77a48daed4e3407.pdf\n",
      "Arquivo de texto já existe. Pulando conversão.\n",
      "Adicionando: José de Alencar: Iracema\n",
      "\n",
      "[4/12] Processando: 128211801a2d496ca76d98609f0fe81f.pdf\n",
      "Arquivo de texto já existe. Pulando conversão.\n",
      "Adicionando: O ideal do crítico\n",
      "\n",
      "[5/12] Processando: 865d403df3bde293799a22a45a2ac209.pdf\n",
      "Arquivo de texto já existe. Pulando conversão.\n",
      "Adicionando: Dois folhetins. Suplício de uma mulher\n",
      "\n",
      "[6/12] Processando: 460dea0cb1063340b4daeb1724cd5525.pdf\n",
      "Arquivo de texto já existe. Pulando conversão.\n",
      "Adicionando: Suplício de uma mulher\n",
      "\n",
      "[7/12] Processando: 578cd14f6c7d3f419da51179a0d27387.pdf\n",
      "Arquivo de texto já existe. Pulando conversão.\n",
      "Adicionando: Carta à Redação da Imprensa Acadêmica\n",
      "\n",
      "[8/12] Processando: dd2452c9b71d8128c03090c3f389b88c.pdf\n",
      "Arquivo de texto já existe. Pulando conversão.\n",
      "Adicionando: Crisálidas\n",
      "\n",
      "[9/12] Processando: 2661c528cc6a04510138db04073d221e.pdf\n",
      "Arquivo de texto já existe. Pulando conversão.\n",
      "Adicionando: Ao Acaso\n",
      "\n",
      "[10/12] Processando: 1100ab900b7d267bebefa73123daae73.pdf\n",
      "Arquivo de texto já existe. Pulando conversão.\n",
      "Adicionando: Os Deuses de casaca\n",
      "\n",
      "[11/12] Processando: 067aec1ff3277c907e09597f10f92789.pdf\n",
      "Arquivo de texto já existe. Pulando conversão.\n",
      "Adicionando: Quase ministro\n",
      "\n",
      "[12/12] Processando: b9dd7c9aade8d11b991496d1e177290f.pdf\n",
      "Arquivo de texto já existe. Pulando conversão.\n",
      "Adicionando: Propósito\n",
      "Processando página: https://machado.mec.gov.br/obra-completa-lista?start=36\n",
      "Encontrados 12 arquivos nesta página\n",
      "\n",
      "[1/12] Processando: 3e7531158a0b737f1d9ce050428ccaa7.pdf\n",
      "Arquivo de texto já existe. Pulando conversão.\n",
      "Adicionando: J.M. de Macedo: O culto do dever\n",
      "\n",
      "[2/12] Processando: 68e6610772d22d98f16e2863f4e51fd4.pdf\n",
      "Arquivo de texto já existe. Pulando conversão.\n",
      "Adicionando: Fagundes Varela: Cantos e fantasias\n",
      "\n",
      "[3/12] Processando: 98fa96c8e5f36d9507719b78a5e061c3.pdf\n",
      "Arquivo de texto já existe. Pulando conversão.\n",
      "Adicionando: Crítica teatral\n",
      "\n",
      "[4/12] Processando: cac9adc4604495e4d867b1880e7f8b99.pdf\n",
      "Arquivo de texto já existe. Pulando conversão.\n",
      "Adicionando: Álvares de Azevedo: Lira dos vinte anos\n",
      "\n",
      "[5/12] Processando: 031c6366de1a2c89eabf5d83e1928536.pdf\n",
      "Arquivo de texto já existe. Pulando conversão.\n",
      "Adicionando: Oliver Twist\n",
      "\n",
      "[6/12] Processando: d5bb3fa36ae3c0d1f136d2190a209213.pdf\n",
      "Arquivo de texto já existe. Pulando conversão.\n",
      "Adicionando: Os Trabalhadores do Mar\n",
      "\n",
      "[7/12] Processando: f90feea4579f3d4964f49e34dc473155.pdf\n",
      "Arquivo de texto já existe. Pulando conversão.\n",
      "Adicionando: Ressurreição\n",
      "\n",
      "[8/12] Processando: 15b64419a44a2b6ba9781ae001275ae8.pdf\n",
      "Arquivo de texto já existe. Pulando conversão.\n",
      "Adicionando: Contos Fluminenses\n",
      "\n",
      "[9/12] Processando: 29a69a98f7ef20b8d95274cd209322ff.pdf\n",
      "Arquivo de texto já existe. Pulando conversão.\n",
      "Adicionando: Falenas\n",
      "\n",
      "[10/12] Processando: 2db3cff05ba7ec0bf66f754c4e64003c.pdf\n",
      "Arquivo de texto já existe. Pulando conversão.\n",
      "Adicionando: Badaladas\n",
      "\n",
      "[11/12] Processando: 51493500c619499d4be6eb28d2c9e146.pdf\n",
      "Arquivo de texto já existe. Pulando conversão.\n",
      "Adicionando: Cartas Fluminenses\n",
      "\n",
      "[12/12] Processando: dc283ffba631963322e28576f30f4016.pdf\n",
      "Arquivo de texto já existe. Pulando conversão.\n",
      "Adicionando: Castro Alves\n",
      "Processando página: https://machado.mec.gov.br/obra-completa-lista?start=48\n",
      "Encontrados 12 arquivos nesta página\n",
      "\n",
      "[1/12] Processando: bff5cb6c81c213a22c492d69505ac411.pdf\n",
      "Baixando: https://machado.mec.gov.br/obra-completa-lista/item/download/17_bff5cb6c81c213a22c492d69505ac411\n",
      "Convertendo para texto...\n",
      "Syntax Error: Couldn't find trailer dictionary\n",
      "Arquivo PDF removido.\n",
      "Adicionando: Iaiá Garcia\n",
      "\n",
      "[2/12] Processando: 6eeff49614c4b3fcfa0adbd92c8cdb28.pdf\n",
      "Arquivo de texto já existe. Pulando conversão.\n",
      "Adicionando: Helena\n",
      "\n",
      "[3/12] Processando: 1006816573c7bf6d28489b791e9981c0.pdf\n",
      "Arquivo de texto já existe. Pulando conversão.\n",
      "Adicionando: A Mão e a Luva\n",
      "\n",
      "[4/12] Processando: 8e623caa384980ca20f48a66e691074f.pdf\n",
      "Arquivo de texto já existe. Pulando conversão.\n",
      "Adicionando: Histórias da Meia-Noite\n",
      "\n",
      "[5/12] Processando: 8fd73cd5dbac1ba1f24555965f1b8069.pdf\n",
      "Arquivo de texto já existe. Pulando conversão.\n",
      "Adicionando: Americanas\n",
      "\n",
      "[6/12] Processando: af1a7a50964e783ae6d59b9836fe7780.pdf\n",
      "Arquivo de texto já existe. Pulando conversão.\n",
      "Adicionando: Notas semanais\n",
      "\n",
      "[7/12] Processando: 0f67daf8859721f5a06d7b380278f912.pdf\n",
      "Arquivo de texto já existe. Pulando conversão.\n",
      "Adicionando: História de Quinze Dias\n",
      "\n",
      "[8/12] Processando: cadc27367c55c9fac81c6fc267caa362.pdf\n",
      "Arquivo de texto já existe. Pulando conversão.\n",
      "Adicionando: O Visconde de Castilho\n",
      "\n",
      "[9/12] Processando: 8f23cd9b09386e2a42f67e250fd6ec8a.pdf\n",
      "Arquivo de texto já existe. Pulando conversão.\n",
      "Adicionando: Fagundes Varela\n",
      "\n",
      "[10/12] Processando: a034209a67594696a9b556534ff73116.pdf\n",
      "Arquivo de texto já existe. Pulando conversão.\n",
      "Adicionando: Notícia da atual literatura brasileira. Instinto de nacionalidade\n",
      "\n",
      "[11/12] Processando: b58c7cc9fdcc543c2cfff4547faf37aa.pdf\n",
      "Arquivo de texto já existe. Pulando conversão.\n",
      "Adicionando: Un cuento endemoniado e La mujer misteriosa. por Guilherme Malta. [1]\n",
      "\n",
      "[12/12] Processando: 5037263716dfe6ddb71387cfe516edc6.pdf\n",
      "Arquivo de texto já existe. Pulando conversão.\n",
      "Adicionando: Lúcio de Mendonça: Névoas matutinas\n",
      "Processando página: https://machado.mec.gov.br/obra-completa-lista?start=60\n",
      "Encontrados 12 arquivos nesta página\n",
      "\n",
      "[1/12] Processando: ff646a924421ea897f27cf6d21e6bb23.pdf\n",
      "Arquivo de texto já existe. Pulando conversão.\n",
      "Adicionando: Memórias Póstumas de Brás Cubas\n",
      "\n",
      "[2/12] Processando: 008edfdf58623bb13d27157722a7281e.pdf\n",
      "Arquivo de texto já existe. Pulando conversão.\n",
      "Adicionando: Papéis Avulsos\n",
      "\n",
      "[3/12] Processando: 492fe9783bd6d603755dad4d8a7ecdf5.pdf\n",
      "Arquivo de texto já existe. Pulando conversão.\n",
      "Adicionando: José de Alencar\n",
      "\n",
      "[4/12] Processando: e131a35e8b38615efe0170ae97236889.pdf\n",
      "Arquivo de texto já existe. Pulando conversão.\n",
      "Adicionando: Cherchez la femme\n",
      "\n",
      "[5/12] Processando: dc7eb38f77f58dd7de273f859f3634ec.pdf\n",
      "Arquivo de texto já existe. Pulando conversão.\n",
      "Adicionando: História dos trinta dias\n",
      "\n",
      "[6/12] Processando: 263391b2ba34ee6f7a1f7bf7b63039f2.pdf\n",
      "Arquivo de texto já existe. Pulando conversão.\n",
      "Adicionando: Tu, só tu, puro amor\n",
      "\n",
      "[7/12] Processando: bdb812e25d1e74d1f4e25e6e16c52e17.pdf\n",
      "Arquivo de texto já existe. Pulando conversão.\n",
      "Adicionando: O Bote de Rapé\n",
      "\n",
      "[8/12] Processando: 671ed34cbd6ed9235a6d847c3d1b09df.pdf\n",
      "Arquivo de texto já existe. Pulando conversão.\n",
      "Adicionando: Raimundo Correia: Sinfonias\n",
      "\n",
      "[9/12] Processando: f403d0d10719f89023f56dc38d5efff4.pdf\n",
      "Arquivo de texto já existe. Pulando conversão.\n",
      "Adicionando: Carlos Jansen: Contos seletos das mil e uma noites\n",
      "\n",
      "[10/12] Processando: d8b5f77c1aa58ad5f5bb8473b91b45f0.pdf\n",
      "Arquivo de texto já existe. Pulando conversão.\n",
      "Adicionando: A nova geração\n",
      "\n",
      "[11/12] Processando: 589d30e201b1d7dc98c9e1833903ebc8.pdf\n",
      "Arquivo de texto já existe. Pulando conversão.\n",
      "Adicionando: Francisco de Castro: Harmonias errantes\n",
      "\n",
      "[12/12] Processando: ba9e781d3821d32a9cbffc78fbfa5bda.pdf\n",
      "Arquivo de texto já existe. Pulando conversão.\n",
      "Adicionando: Eça de Queirós: O Primo Basílio\n",
      "Processando página: https://machado.mec.gov.br/obra-completa-lista?start=72\n",
      "Encontrados 12 arquivos nesta página\n",
      "\n",
      "[1/12] Processando: 807cb64613e2b6ad056b302e6ef7717d.pdf\n",
      "Arquivo de texto já existe. Pulando conversão.\n",
      "Adicionando: Pedro Luís\n",
      "\n",
      "[2/12] Processando: 43f943e1c8b9aaf756af3875d8561a10.pdf\n",
      "Arquivo de texto já existe. Pulando conversão.\n",
      "Adicionando: Casa Velha\n",
      "\n",
      "[3/12] Processando: b10fd1f9a75bcaa4573e55e677660131.pdf\n",
      "Arquivo de texto já existe. Pulando conversão.\n",
      "Adicionando: Histórias Sem Data\n",
      "\n",
      "[4/12] Processando: cf52cc1286dbfd064dd159d9070bfe62.pdf\n",
      "Arquivo de texto já existe. Pulando conversão.\n",
      "Adicionando: Gazeta de Holanda\n",
      "\n",
      "[5/12] Processando: 7a9e1522c9988e2e5beab787ef12189e.pdf\n",
      "Arquivo de texto já existe. Pulando conversão.\n",
      "Adicionando: O futuro dos argentinos\n",
      "\n",
      "[6/12] Processando: 9f43b588353799b28d3220f4cde0f051.pdf\n",
      "Arquivo de texto já existe. Pulando conversão.\n",
      "Adicionando: Bons Dias!\n",
      "\n",
      "[7/12] Processando: 41f1a2e27042587bc0ea82a752db89fe.pdf\n",
      "Arquivo de texto já existe. Pulando conversão.\n",
      "Adicionando: Joaquim Serra\n",
      "\n",
      "[8/12] Processando: 6b062f029e266bb9dcd4b54c1b63aebf.pdf\n",
      "Arquivo de texto já existe. Pulando conversão.\n",
      "Adicionando: Balas de Estalo\n",
      "\n",
      "[9/12] Processando: db3acecf34e1fdb1df8a3effc98ec85e.pdf\n",
      "Arquivo de texto já existe. Pulando conversão.\n",
      "Adicionando: José de Alencar: O Guarani\n",
      "\n",
      "[10/12] Processando: cce92fc04d5ccb32430670b71477b0e4.pdf\n",
      "Arquivo de texto já existe. Pulando conversão.\n",
      "Adicionando: L. L. Fernandes Pinheiro Júnior: Tipos e quadros\n",
      "\n",
      "[11/12] Processando: 453aa9319252caf00a071a63a4ed8ee1.pdf\n",
      "Arquivo de texto já existe. Pulando conversão.\n",
      "Adicionando: Enéias Galvão: Miragens\n",
      "\n",
      "[12/12] Processando: 33303d7e98210297109b803b8314a417.pdf\n",
      "Arquivo de texto já existe. Pulando conversão.\n",
      "Adicionando: Alberto de Oliveira: Meridionais\n",
      "Processando página: https://machado.mec.gov.br/obra-completa-lista?start=84\n",
      "Encontrados 12 arquivos nesta página\n",
      "\n",
      "[1/12] Processando: 7d13bd25e70f5cbe3ca18f2234fc8c46.pdf\n",
      "Arquivo de texto já existe. Pulando conversão.\n",
      "Adicionando: Secretaria da Agricultura\n",
      "\n",
      "[2/12] Processando: f2a7e546bef1d4aa44c9885a70683f8b.pdf\n",
      "Arquivo de texto já existe. Pulando conversão.\n",
      "Adicionando: A morte de Francisco Otaviano\n",
      "\n",
      "[3/12] Processando: 7bbc6c42393beeac1fd963c16d935f40.pdf\n",
      "Arquivo de texto já existe. Pulando conversão.\n",
      "Adicionando: Quincas Borba\n",
      "\n",
      "[4/12] Processando: 29eaa69154e158508ef8374fcb50937a.pdf\n",
      "Arquivo de texto já existe. Pulando conversão.\n",
      "Adicionando: Várias Histórias\n",
      "\n",
      "[5/12] Processando: a7e9562f84316f673ba75cd8acfea0fe.pdf\n",
      "Arquivo de texto já existe. Pulando conversão.\n",
      "Adicionando: O Velho Senado\n",
      "\n",
      "[6/12] Processando: 6b42d1e2d708d60bdb496ea71886f08e.pdf\n",
      "Arquivo de texto já existe. Pulando conversão.\n",
      "Adicionando: Henrique Lombaerts\n",
      "\n",
      "[7/12] Processando: 8fb7fed750b06713de49465b082e6f5f.pdf\n",
      "Arquivo de texto já existe. Pulando conversão.\n",
      "Adicionando: Henrique Chaves\n",
      "\n",
      "[8/12] Processando: efbda0d80ae2b6fd9a0cab326fad708c.pdf\n",
      "Arquivo de texto já existe. Pulando conversão.\n",
      "Adicionando: Entre 1892 e 1894\n",
      "\n",
      "[9/12] Processando: ea040963b104e779a661f26690195654.pdf\n",
      "Arquivo de texto já existe. Pulando conversão.\n",
      "Adicionando: A semana\n",
      "\n",
      "[10/12] Processando: 79e4387ca859b106e3a11c8a257f1cee.pdf\n",
      "Arquivo de texto já existe. Pulando conversão.\n",
      "Adicionando: Magalhães de Azeredo: Procelárias\n",
      "\n",
      "[11/12] Processando: 563fe56ba81218d25f2e9884ed2110fd.pdf\n",
      "Arquivo de texto já existe. Pulando conversão.\n",
      "Adicionando: Discursos na Academia Brasileira de Letras\n",
      "\n",
      "[12/12] Processando: 92f24dbcccf89ed9a7300e5c39e5d3c5.pdf\n",
      "Arquivo de texto já existe. Pulando conversão.\n",
      "Adicionando: Henriqueta Renan\n",
      "Processando página: https://machado.mec.gov.br/obra-completa-lista?start=96\n",
      "Encontrados 12 arquivos nesta página\n",
      "\n",
      "[1/12] Processando: 23c1542bc7b8ebe97b571f4e64f778d9.pdf\n",
      "Arquivo de texto já existe. Pulando conversão.\n",
      "Adicionando: A Paixão de Jesus\n",
      "\n",
      "[2/12] Processando: ab2c739d2e8293712078e7b6b0c12abb.pdf\n",
      "Arquivo de texto já existe. Pulando conversão.\n",
      "Adicionando: Esaú e Jacó\n",
      "\n",
      "[3/12] Processando: 7101e1a36cda79f6c97341757dcc4d04.pdf\n",
      "Arquivo de texto já existe. Pulando conversão.\n",
      "Adicionando: Dom Casmurro\n",
      "\n",
      "[4/12] Processando: fcddef9a9bd325ad2003c64f4f4eb884.pdf\n",
      "Arquivo de texto já existe. Pulando conversão.\n",
      "Adicionando: Páginas Recolhidas\n",
      "\n",
      "[5/12] Processando: 9d0bb1ba15355a7d94bf60884c45f621.pdf\n",
      "Arquivo de texto já existe. Pulando conversão.\n",
      "Adicionando: Ocidentais\n",
      "\n",
      "[6/12] Processando: 390921fb4791464b4885563dc04a042c.pdf\n",
      "Arquivo de texto já existe. Pulando conversão.\n",
      "Adicionando: Não consultes médico\n",
      "\n",
      "[7/12] Processando: 1b7ecc80e7758c5a0daa8b662347bb10.pdf\n",
      "Arquivo de texto já existe. Pulando conversão.\n",
      "Adicionando: Oliveira Lima: Secretário D’El-Rei\n",
      "\n",
      "[8/12] Processando: e60f94a84b7195a74649e367cc6ca504.pdf\n",
      "Arquivo de texto já existe. Pulando conversão.\n",
      "Adicionando: Magalhães de Azeredo: Horas sagradas; Mário de Alencar: Versos\n",
      "\n",
      "[9/12] Processando: d3f21bcf397dc51d35b046eb8455c72d.pdf\n",
      "Arquivo de texto já existe. Pulando conversão.\n",
      "Adicionando: Eduardo Prado\n",
      "\n",
      "[10/12] Processando: 3b9ebc3fdfd069413aa271ac265adf71.pdf\n",
      "Arquivo de texto já existe. Pulando conversão.\n",
      "Adicionando: Eça de Queirós\n",
      "\n",
      "[11/12] Processando: 4271875f40dee8df864ddf484e5867e5.pdf\n",
      "Arquivo de texto já existe. Pulando conversão.\n",
      "Adicionando: Garrett\n",
      "\n",
      "[12/12] Processando: c9aa6d7ecd84c33b49c6b8ce01fcb056.pdf\n",
      "Arquivo de texto já existe. Pulando conversão.\n",
      "Adicionando: Cenas da vida amazônica. por José Veríssimo.\n",
      "Processando página: https://machado.mec.gov.br/obra-completa-lista?start=108\n",
      "Encontrados 8 arquivos nesta página\n",
      "\n",
      "[1/8] Processando: 3b418d3289f560235fccf338378de5bf.pdf\n",
      "Arquivo de texto já existe. Pulando conversão.\n",
      "Adicionando: Memorial de Aires\n",
      "\n",
      "[2/8] Processando: 17e6565ba8b4ece672bc1d7fef6d2668.pdf\n",
      "Arquivo de texto já existe. Pulando conversão.\n",
      "Adicionando: A Estátua de José de Alencar\n",
      "\n",
      "[3/8] Processando: 38f9cf3497ecf2075238d47ed63e6b28.pdf\n",
      "Arquivo de texto já existe. Pulando conversão.\n",
      "Adicionando: Gonçalves Dias\n",
      "\n",
      "[4/8] Processando: 938f74988ddbf449047ecc5c5b575985.pdf\n",
      "Arquivo de texto já existe. Pulando conversão.\n",
      "Adicionando: Relíquias de Casa Velha\n",
      "\n",
      "[5/8] Processando: ff5cb8154b31a1046cad0acacaf5d256.pdf\n",
      "Arquivo de texto já existe. Pulando conversão.\n",
      "Adicionando: O Almada\n",
      "\n",
      "[6/8] Processando: 2b8fb9ad43aa37653a58bc2bd56e33aa.pdf\n",
      "Arquivo de texto já existe. Pulando conversão.\n",
      "Adicionando: Lição de Botânica\n",
      "\n",
      "[7/8] Processando: 21c45fd1b821d0ebba482f03746c1d31.pdf\n",
      "Arquivo de texto já existe. Pulando conversão.\n",
      "Adicionando: As Forcas Caudinas\n",
      "\n",
      "[8/8] Processando: 8bb64258342b5ab205ffb89bae345a1b.pdf\n",
      "Arquivo de texto já existe. Pulando conversão.\n",
      "Adicionando: Joaquim Nabuco: Pensées détachées et souvenirs\n",
      "Processando página: https://machado.mec.gov.br/obra-completa-lista?start=120\n",
      "Nenhum link encontrado nesta página.\n",
      "\n",
      "Processamento concluído. Arquivo completo salvo em: Machado/machado_de_assis_completo.txt\n"
     ]
    }
   ],
   "source": [
    "./download_machado.sh"
   ]
  },
  {
   "cell_type": "markdown",
   "metadata": {
    "id": "h8UBC5Gv3aiH"
   },
   "source": [
    "## Listar os títulos baixados"
   ]
  },
  {
   "cell_type": "code",
   "execution_count": 24,
   "metadata": {},
   "outputs": [],
   "source": [
    "ARQUIVO_COMPLETO=Machado/machado_de_assis_completo.txt"
   ]
  },
  {
   "cell_type": "code",
   "execution_count": 25,
   "metadata": {
    "colab": {
     "base_uri": "https://localhost:8080/"
    },
    "id": "QiJeKfXo2AbJ",
    "outputId": "e8ec0df6-2775-4e4c-9178-727bc882150d"
   },
   "outputs": [
    {
     "name": "stdout",
     "output_type": "stream",
     "text": [
      "A Constituinte perante a história, pelo sr. Homem de Mello. — Sombras e Luz, do sr. B.\n",
      "A crítica teatral. José de Alencar : Mãe\n",
      "A Estátua de José de Alencar\n",
      "Alberto de Oliveira: Meridionais\n",
      "Álvares de Azevedo: Lira dos vinte anos\n",
      "A Mão e a Luva\n",
      "Americanas\n",
      "A morte de Francisco Otaviano\n",
      "A nova geração\n",
      "Ao Acaso\n",
      "A Paixão de Jesus\n",
      "Aquarelas\n",
      "A Reforma pelo jornal\n",
      "A semana\n",
      "As Forcas Caudinas\n",
      "Badaladas\n",
      "Balas de Estalo\n",
      "Bons Dias!\n",
      "Carlos Jansen: Contos seletos das mil e uma noites\n",
      "Carta ao Sr. Bispo do Rio de Janeiro\n",
      "Carta à Redação da Imprensa Acadêmica\n",
      "Cartas Fluminenses\n",
      "Casa Velha\n",
      "Castro Alves\n",
      "Cenas da vida amazônica. por José Veríssimo.\n",
      "Cherchez la femme\n",
      "Comentários da semana\n",
      "Compêndio da Gramática Portuguesa, por Vergueiro e Pertence. — À memória de\n",
      "Contos Fluminenses\n",
      "Crisálidas\n",
      "Crítica teatral\n",
      "Crônicas\n",
      "Crônicas do Dr. Semana\n",
      "Desencantos\n",
      "Discursos na Academia Brasileira de Letras\n",
      "Dois folhetins. Suplício de uma mulher\n",
      "Dom Casmurro\n",
      "Eça de Queirós\n",
      "Eça de Queirós: O Primo Basílio\n",
      "Eduardo Prado\n",
      "Enéias Galvão: Miragens\n",
      "Entre 1892 e 1894\n",
      "Esaú e Jacó\n",
      "Fagundes Varela\n",
      "Fagundes Varela: Cantos e fantasias\n",
      "Falenas\n",
      "Flores e frutos. Poesias por Bruno Seabra, Garnier editor, 1862.\n",
      "Francisco de Castro: Harmonias errantes\n",
      "Garrett\n",
      "Gazeta de Holanda\n",
      "Gonçalves Dias\n",
      "Helena\n",
      "Henrique Chaves\n",
      "Henrique Lombaerts\n",
      "Henriqueta Renan\n",
      "História de Quinze Dias\n",
      "História dos trinta dias\n",
      "Histórias da Meia-Noite\n",
      "Histórias Sem Data\n",
      "Hoje avental, amanhã luva\n",
      "Iaiá Garcia\n",
      "Idéias sobre o Teatro\n",
      "J.M. de Macedo: O culto do dever\n",
      "Joaquim Nabuco: Pensées détachées et souvenirs\n",
      "Joaquim Serra\n",
      "José de Alencar\n",
      "José de Alencar: Iracema\n",
      "José de Alencar: O Guarani\n",
      "Junqueira Freire: Inspirações do claustro\n",
      "Lição de Botânica\n",
      "L. L. Fernandes Pinheiro Júnior: Tipos e quadros\n",
      "Lúcio de Mendonça: Névoas matutinas\n",
      "Magalhães de Azeredo: Horas sagradas; Mário de Alencar: Versos\n",
      "Magalhães de Azeredo: Procelárias\n",
      "Memorial de Aires\n",
      "Memórias Póstumas de Brás Cubas\n",
      "Não consultes médico\n",
      "Notas semanais\n",
      "Notícia da atual literatura brasileira. Instinto de nacionalidade\n",
      "O Almada\n",
      "O Bote de Rapé\n",
      "O caminho da porta\n",
      "Ocidentais\n",
      "O futuro dos argentinos\n",
      "O ideal do crítico\n",
      "O jornal e o livro [1]\n",
      "Oliveira Lima: Secretário D’El-Rei\n",
      "Oliver Twist\n",
      "O passado, o presente e o futuro da literatura\n",
      "Os Deuses de casaca\n",
      "Os imortais\n",
      "Os Trabalhadores do Mar\n",
      "O Velho Senado\n",
      "O Visconde de Castilho\n",
      "Páginas Recolhidas\n",
      "Papéis Avulsos\n",
      "Pareceres de Machado de Assis a diversas peças teatrais\n",
      "Pedro Luís\n",
      "Peregrinação pela província de S. Paulo. por A. E. Zaluar, 1863, Garnier, editor.\n",
      "Poesias dispersas\n",
      "Porto Alegre: Colombo\n",
      "Propósito\n",
      "Quase ministro\n",
      "Queda que as mulheres têm para os tolos\n",
      "Quincas Borba\n",
      "Raimundo Correia: Sinfonias\n",
      "Relíquias de Casa Velha\n",
      "Ressurreição\n",
      "Revelações. Poesias de A. E. Zaluar, Garnier editor, 1863.\n",
      "Revista dos Teatros\n",
      "Revista Dramática\n",
      "Secretaria da Agricultura\n",
      "Suplício de uma mulher\n",
      "Tu, só tu, puro amor\n",
      "Un cuento endemoniado e La mujer misteriosa. por Guilherme Malta. [1]\n",
      "Várias Histórias\n",
      "-----------------------------------------------------------------------\n",
      "116\n"
     ]
    }
   ],
   "source": [
    "grep \"^## \" $ARQUIVO_COMPLETO | sort | uniq | sed 's/^## //'\n",
    "echo \"-----------------------------------------------------------------------\"\n",
    "grep \"^## \" $ARQUIVO_COMPLETO | sort | uniq | sed 's/^## //' | wc -l"
   ]
  },
  {
   "cell_type": "markdown",
   "metadata": {
    "id": "CLjxe_CO8aFq"
   },
   "source": [
    "## Criar um arquivo vazio\n",
    "\n",
    "Criamos um arquivo vazio para ser utilizado como argumento do executável criado para contagem de frequência de palavras, contando as *stopwords* - palavras comuns do idioma geralmente excluídas das tarefas de análise de texto ou processamento de linguagem natural."
   ]
  },
  {
   "cell_type": "code",
   "execution_count": 19,
   "metadata": {
    "colab": {
     "base_uri": "https://localhost:8080/"
    },
    "id": "RjFiLK-m6zTT",
    "outputId": "2bf1491f-58dd-4e14-e485-bf290610a500"
   },
   "outputs": [],
   "source": [
    "cat > nostop << 'EOF'\n",
    "EOF\n"
   ]
  },
  {
   "cell_type": "markdown",
   "metadata": {
    "id": "toJFTPY-8oxt"
   },
   "source": [
    "## Criar o arquivo shell executável"
   ]
  },
  {
   "cell_type": "code",
   "execution_count": 20,
   "metadata": {
    "colab": {
     "base_uri": "https://localhost:8080/"
    },
    "id": "sKykwt2myanR",
    "outputId": "09794c96-5887-4371-a156-236e05596d0c"
   },
   "outputs": [],
   "source": [
    "cat > confre.sh << 'EOF'\n",
    "#!/bin/bash\n",
    "\n",
    "# Inicia o contador de tempo\n",
    "echo \"Iniciando processamento...\"\n",
    "time {\n",
    "    grep -oE '\\w+' \"$1\" |\n",
    "   #perl -CS -ne 'print lc'  #  Google Colab não respeita o locale \n",
    "    awk '{print tolower($0)}' |\n",
    "    sort |\n",
    "    grep -wvFf \"$2\" |\n",
    "    uniq -c |\n",
    "    sort -k1,1nr -k2 |\n",
    "    sed ${3:-10}q\n",
    "}\n",
    "EOF"
   ]
  },
  {
   "cell_type": "markdown",
   "metadata": {
    "id": "AGd453qr8vv9"
   },
   "source": [
    "## Definir as permissões"
   ]
  },
  {
   "cell_type": "code",
   "execution_count": 21,
   "metadata": {
    "id": "Qtt1ApBMuAOg"
   },
   "outputs": [],
   "source": [
    "chmod +x confre.sh"
   ]
  },
  {
   "cell_type": "markdown",
   "metadata": {
    "id": "xdn2P2Vk80ai"
   },
   "source": [
    "## Contagem da frequência de palavras"
   ]
  },
  {
   "cell_type": "code",
   "execution_count": 26,
   "metadata": {
    "colab": {
     "base_uri": "https://localhost:8080/"
    },
    "id": "kuQHG7gbuOWF",
    "outputId": "8ae50819-d1c5-4f0d-a4bc-89f25cc2d225"
   },
   "outputs": [
    {
     "name": "stdout",
     "output_type": "stream",
     "text": [
      "Iniciando processamento...\n",
      "  75451 a\n",
      "  69367 que\n",
      "  66921 de\n",
      "  60774 o\n",
      "  57052 e\n",
      "  34383 não\n",
      "  28067 se\n",
      "  25059 do\n",
      "  24127 um\n",
      "  21989 da\n",
      "  20839 é\n",
      "  19763 os\n",
      "  16521 uma\n",
      "  15381 em\n",
      "  14953 com\n",
      "  14788 as\n",
      "  13113 para\n",
      "  12391 mas\n",
      "  11921 lhe\n",
      "  10961 ao\n",
      "\n",
      "real\t0m7,664s\n",
      "user\t0m9,842s\n",
      "sys\t0m0,209s\n"
     ]
    }
   ],
   "source": [
    "./confre.sh $ARQUIVO_COMPLETO nostop 20"
   ]
  },
  {
   "cell_type": "markdown",
   "metadata": {
    "id": "AGm4FScZejf9"
   },
   "source": [
    "# Contagem da frequência de palavras sem *stopwords*\n",
    "\n",
    "Como mencionado anteriormente, neste procedimento são removidas as palavras mais comuns do idioma, denominadas *stopwords*, que em geral exercem função *sintagmática*, isto é, atuam como conectores ou elementos estruturais na frase."
   ]
  },
  {
   "cell_type": "code",
   "execution_count": 76,
   "metadata": {
    "colab": {
     "base_uri": "https://localhost:8080/"
    },
    "id": "CwDRLw2tJ57k",
    "outputId": "69345df0-f248-4a62-9202-4c2837653e84"
   },
   "outputs": [
    {
     "name": "stdout",
     "output_type": "stream",
     "text": [
      "Iniciando processamento...\n",
      "   9148 mais\n",
      "   3774 ser\n",
      "   3137 tempo\n",
      "   3093 casa\n",
      "   3003 nada\n",
      "   2854 tão\n",
      "   2770 olhos\n",
      "   2655 dia\n",
      "   2592 homem\n",
      "   2537 assim\n",
      "   2483 bem\n",
      "   2469 dois\n",
      "   2184 menos\n",
      "   2181 vida\n",
      "   2135 dizer\n",
      "   1995 duas\n",
      "   1932 onde\n",
      "   1930 dias\n",
      "   1858 então\n",
      "   1846 ia\n",
      "\n",
      "real\t0m8,736s\n",
      "user\t0m10,752s\n",
      "sys\t0m0,245s\n"
     ]
    }
   ],
   "source": [
    "./confre.sh $ARQUIVO_COMPLETO stpw 20"
   ]
  },
  {
   "cell_type": "markdown",
   "metadata": {
    "id": "kgXcZyYshG5q"
   },
   "source": [
    "# The *awk* way\n",
    "\n",
    "Ao usarmos *awk* - linguagem orientada a padrões projetada para processamento e manipulação de texto - reduzimos um passo no *script* e melhoramos o tempo de execução.\n"
   ]
  },
  {
   "cell_type": "code",
   "execution_count": 29,
   "metadata": {
    "colab": {
     "base_uri": "https://localhost:8080/"
    },
    "id": "WXCR-0E7hNKb",
    "outputId": "b3903016-0d38-4afe-e354-90acc1f87ea4"
   },
   "outputs": [
    {
     "name": "stdout",
     "output_type": "stream",
     "text": [
      "Iniciando processamento...\n",
      "9148 mais\n",
      "3774 ser\n",
      "3137 tempo\n",
      "3093 casa\n",
      "3003 nada\n",
      "2854 tão\n",
      "2770 olhos\n",
      "2655 dia\n",
      "2592 homem\n",
      "2537 assim\n",
      "2483 bem\n",
      "2469 dois\n",
      "2184 menos\n",
      "2181 vida\n",
      "2135 dizer\n",
      "1995 duas\n",
      "1932 onde\n",
      "1930 dias\n",
      "1858 então\n",
      "1846 ia\n",
      "\n",
      "real\t0m3,922s\n",
      "user\t0m6,407s\n",
      "sys\t0m0,184s\n"
     ]
    }
   ],
   "source": [
    "# Inicia o contador de tempo\n",
    "echo \"Iniciando processamento...\"\n",
    "time {\n",
    "    grep -oE '\\w+' $ARQUIVO_COMPLETO |\n",
    "    #perl -CS -ne 'print lc'  | \n",
    "    awk '{print tolower($0)}' | #Google Colab não respeita o locale\n",
    "    awk '{cnt[$0] += 1} END {for (i in cnt) print cnt[i], i}' |\n",
    "    grep -wvFf stpw |\n",
    "    sort -nr |\n",
    "    sed ${1:-20}q\n",
    "}"
   ]
  },
  {
   "cell_type": "markdown",
   "metadata": {},
   "source": [
    "### Palavras com menor frequência"
   ]
  },
  {
   "cell_type": "code",
   "execution_count": 52,
   "metadata": {},
   "outputs": [
    {
     "name": "stdout",
     "output_type": "stream",
     "text": [
      "\n",
      "real\t0m8,084s\n",
      "user\t0m10,037s\n",
      "sys\t0m0,227s\n",
      "      1 zuavo\t    \t  1 zumbiam\t      1 zunindo\t    \t  1 zurro\n",
      "      1 zumbaia\t    \t  1 zumbindo\t      1 zunzum\t    \t  1 zuru\n",
      "      1 zumbem\t    \t  1 zune\t      1 zurrapa\t    \t  1 zwinglio\n"
     ]
    }
   ],
   "source": [
    "./confre.sh $ARQUIVO_COMPLETO nostop 999999 | tail -n 12 | pr -c4 -t -w80"
   ]
  },
  {
   "cell_type": "markdown",
   "metadata": {
    "id": "znFpLAbresrY"
   },
   "source": [
    "# Contagem da frequência de caracteres\n",
    "\n",
    "\n",
    "A ordem da frequência de caracteres varia de acordo com a língua.\n",
    "\n",
    "Ao analisarmos obras individuais, podemos identificar em que línguas foram escritas."
   ]
  },
  {
   "cell_type": "markdown",
   "metadata": {
    "id": "i6Eq3xW_EG-w"
   },
   "source": [
    "### Processar múltiplos arquivos\n",
    "\n",
    "Cada arquivo representa uma língua, em sequência:\n",
    "\n",
    "português, italiano, espanhol, inglês, francês e alemão\n",
    "\n",
    "\n",
    "\n"
   ]
  },
  {
   "cell_type": "code",
   "execution_count": 31,
   "metadata": {
    "colab": {
     "base_uri": "https://localhost:8080/"
    },
    "id": "XFezGsJmZpQI",
    "outputId": "b17e9f49-5f32-4346-ebcb-159730a1d86e"
   },
   "outputs": [
    {
     "name": "stdout",
     "output_type": "stream",
     "text": [
      "bras_cubas.txt\n",
      "  35656 a\n",
      "  33732 e\n",
      "  27972 o\n",
      "  20532 s\n",
      "\n",
      "commedia.txt\n",
      "  46804 e\n",
      "  42636 a\n",
      "  40267 i\n",
      "  37856 o\n",
      "\n",
      "quijote.txt\n",
      " 221982 e\n",
      " 193349 a\n",
      " 153361 o\n",
      " 125728 s\n",
      "\n",
      "hamlet.txt\n",
      "  14960 e\n",
      "  11863 t\n",
      "  11218 o\n",
      "   9950 a\n",
      "\n",
      "les-miserables.txt\n",
      " 332097 e\n",
      " 235206 t\n",
      " 206945 a\n",
      " 184605 o\n",
      "\n",
      "Faust.txt\n",
      "  23249 e\n",
      "  14077 n\n",
      "  12284 i\n",
      "  10037 h\n",
      "\n"
     ]
    }
   ],
   "source": [
    "# Lista de arquivos a serem processados\n",
    "Obras=(\"bras_cubas.txt\" \"commedia.txt\" \"quijote.txt\" \"hamlet.txt\"\n",
    "        \"les-miserables.txt\" \"Faust.txt\"\n",
    "        )\n",
    "\n",
    "# Função para processar um arquivo e retornar os 4 caracteres mais frequentes\n",
    "process_file() {\n",
    "    local file=\"$1\"\n",
    "    grep -oE '\\w+' \"$file\" |\n",
    "    #perl -CS -ne 'print lc' | \n",
    "    awk '{print tolower($0)}' |\n",
    "    sed 's/\\(.\\)/\\1\\n/g' |\n",
    "    sed '/^$/d' |\n",
    "    sort |\n",
    "    uniq -c |\n",
    "    sort -k1,1nr -k2 |\n",
    "    head -n 4\n",
    "}\n",
    "\n",
    "# Processamento dos arquivos e impressão dos resultados\n",
    "for file in \"${Obras[@]}\"; do\n",
    "    echo \"$(basename \"$file\")\"\n",
    "    process_file \"$file\"\n",
    "    echo\n",
    "done\n"
   ]
  },
  {
   "cell_type": "markdown",
   "metadata": {
    "id": "DSstPkAHe5EC"
   },
   "source": [
    "# Contagem da frequência de advérbios\n"
   ]
  },
  {
   "cell_type": "code",
   "execution_count": 32,
   "metadata": {
    "colab": {
     "base_uri": "https://localhost:8080/"
    },
    "id": "HDoi3Abaz5sx",
    "outputId": "25000b50-e706-4765-b446-34737e303df9"
   },
   "outputs": [],
   "source": [
    "cat > cf_adv.sh << 'EOF' \n",
    "#!/bin/bash\n",
    "\n",
    "grep -oE '\\w+' \"$1\" |\n",
    "#perl -CS -ne 'print lc' | \n",
    "awk '{print tolower($0)}' |\n",
    "grep -E \"$2$\"  |\n",
    "sort |\n",
    "uniq -c |\n",
    "sort -k1,1nr -k2 |\n",
    "awk '{sum += $1} END {print sum}'\n",
    "EOF"
   ]
  },
  {
   "cell_type": "code",
   "execution_count": 34,
   "metadata": {
    "id": "VNrXe5Nb0PJn"
   },
   "outputs": [],
   "source": [
    "chmod +x cf_adv.sh"
   ]
  },
  {
   "cell_type": "markdown",
   "metadata": {
    "id": "SQ-e-aR-1jhi"
   },
   "source": [
    "**Terminados em \"ve(l|is)\"**"
   ]
  },
  {
   "cell_type": "code",
   "execution_count": 35,
   "metadata": {
    "colab": {
     "base_uri": "https://localhost:8080/"
    },
    "id": "OiPVbMxl0mN3",
    "outputId": "56ce72b4-cfa5-4414-a429-043641982f48"
   },
   "outputs": [
    {
     "name": "stdout",
     "output_type": "stream",
     "text": [
      "3911\n"
     ]
    }
   ],
   "source": [
    "./cf_adv.sh $ARQUIVO_COMPLETO \"ve(l|is)\""
   ]
  },
  {
   "cell_type": "markdown",
   "metadata": {
    "id": "TPIC39vljBVx"
   },
   "source": [
    "**Terminados em \"mente\"**"
   ]
  },
  {
   "cell_type": "code",
   "execution_count": 36,
   "metadata": {
    "colab": {
     "base_uri": "https://localhost:8080/"
    },
    "id": "KeLNtic5jI4q",
    "outputId": "2bd11bb2-e131-4bf4-d46a-3bcfb8e66ffd"
   },
   "outputs": [
    {
     "name": "stdout",
     "output_type": "stream",
     "text": [
      "10330\n"
     ]
    }
   ],
   "source": [
    "./cf_adv.sh $ARQUIVO_COMPLETO \"mente\""
   ]
  },
  {
   "cell_type": "markdown",
   "metadata": {
    "id": "6AZz1jBSh4ZD"
   },
   "source": [
    "# Listagem de palavras por tamanho"
   ]
  },
  {
   "cell_type": "code",
   "execution_count": 38,
   "metadata": {
    "colab": {
     "base_uri": "https://localhost:8080/"
    },
    "id": "j5eMtDJQh-e5",
    "outputId": "04832c6b-41aa-4f61-d067-5cca3f3171f4"
   },
   "outputs": [
    {
     "name": "stdout",
     "output_type": "stream",
     "text": [
      "      2 constitucionalmente\n",
      "      1 desencadernadamente\n",
      "      2 desinteressadamente\n",
      "      1 despretensiosamente\n",
      "      1 despropositadamente\n",
      "      1 extraconstitucional\n",
      "     14 extraordinariamente\n",
      "      1 extraordinàriamente\n",
      "      1 impressionabilidade\n",
      "      1 incompatibilizassem\n",
      "      1 revolucionariamente\n"
     ]
    }
   ],
   "source": [
    "grep -oE '\\w+' $ARQUIVO_COMPLETO |\n",
    "#perl -CS -ne 'print lc' | \n",
    "awk '{print tolower($0)}' |\n",
    "grep --colour -Eow '(\\w{19})' |\n",
    "sort |\n",
    "uniq -c"
   ]
  },
  {
   "cell_type": "markdown",
   "metadata": {
    "id": "cLkjbR_JFgJJ"
   },
   "source": [
    "## Contagem de frequência de *n-gramas*"
   ]
  },
  {
   "cell_type": "code",
   "execution_count": 39,
   "metadata": {
    "colab": {
     "base_uri": "https://localhost:8080/"
    },
    "id": "4-suHmBQEr4O",
    "outputId": "1d9619dc-c435-42be-be40-226a0e0b28ea"
   },
   "outputs": [],
   "source": [
    "cat > ngramas.sh << 'EOF'\n",
    "#!/bin/bash\n",
    "\n",
    "# Verifica se os argumentos foram fornecidos\n",
    "if [ \"$#\" -lt 2 ]; then\n",
    "    echo \"Uso: ./ngramas.sh <n> <arquivo> [quantidade_de_resultados]\"\n",
    "    echo \"Exemplo para bigramas: ./ngramas.sh 2 machado_de_assis_completo.txt 10\"\n",
    "    exit 1\n",
    "fi\n",
    "\n",
    "N=$1\n",
    "ARQUIVO=$2\n",
    "SAIDA=${3:-10}  # Padrão: 10 resultados\n",
    "\n",
    "# Remove pontuação e gera n-gramas\n",
    "tr -d ';,—/.:\"?!' < \"$ARQUIVO\" |\n",
    "awk -v n=\"$N\" '{\n",
    "    split($0, palavras);\n",
    "    for (i = 1; i <= length(palavras) - (n - 1); i++) {\n",
    "        saida = palavras[i];\n",
    "        for (j = 1; j < n; j++) {\n",
    "            saida = saida \" \" palavras[i + j];\n",
    "        }\n",
    "        print saida;\n",
    "    }\n",
    "}' |\n",
    "sort |\n",
    "uniq -c |\n",
    "sort -bnr |\n",
    "sed \"${SAIDA}q\"\n",
    "EOF"
   ]
  },
  {
   "cell_type": "code",
   "execution_count": 40,
   "metadata": {
    "id": "D6IVN9imEvvZ"
   },
   "outputs": [],
   "source": [
    "chmod +x ngramas.sh"
   ]
  },
  {
   "cell_type": "markdown",
   "metadata": {
    "id": "yrocjB2_FwFr"
   },
   "source": [
    "*n* = 2"
   ]
  },
  {
   "cell_type": "code",
   "execution_count": 42,
   "metadata": {
    "colab": {
     "base_uri": "https://localhost:8080/"
    },
    "id": "PLDFMOnZEzYL",
    "outputId": "aa243519-a54c-4bf8-a2b9-f4e18a83878e"
   },
   "outputs": [
    {
     "name": "stdout",
     "output_type": "stream",
     "text": [
      "   4839 que o\n",
      "   4113 que a\n",
      "   3520 que não\n",
      "   3403 o que\n",
      "   3112 de um\n",
      "   2961 e a\n",
      "   2907 que se\n",
      "   2610 e o\n",
      "   2321 é que\n",
      "   2111 de uma\n"
     ]
    }
   ],
   "source": [
    "./ngramas.sh 2 $ARQUIVO_COMPLETO"
   ]
  },
  {
   "cell_type": "markdown",
   "metadata": {
    "id": "DkqgLd_iF1Th"
   },
   "source": [
    "*n* = 3"
   ]
  },
  {
   "cell_type": "code",
   "execution_count": 44,
   "metadata": {
    "colab": {
     "base_uri": "https://localhost:8080/"
    },
    "id": "hoJYx7LQGSMc",
    "outputId": "25a7335a-3ae2-4861-8952-5279013e8da3"
   },
   "outputs": [
    {
     "name": "stdout",
     "output_type": "stream",
     "text": [
      "    496 Rio de Janeiro\n",
      "    295 o que é\n",
      "    240 com os olhos\n",
      "    224 de todos os\n",
      "    216 mais do que\n",
      "    216 é que o\n",
      "    207 é que não\n",
      "    207 é o que\n",
      "    206 o que se\n",
      "    202 que é que\n"
     ]
    }
   ],
   "source": [
    "./ngramas.sh 3 $ARQUIVO_COMPLETO"
   ]
  },
  {
   "cell_type": "markdown",
   "metadata": {
    "id": "v8M4eC_L0gIw"
   },
   "source": [
    "# Quantas palavras únicas existem no texto?"
   ]
  },
  {
   "cell_type": "code",
   "execution_count": 45,
   "metadata": {
    "colab": {
     "base_uri": "https://localhost:8080/"
    },
    "id": "Z5vYYQUA0lQP",
    "outputId": "10c4e7b4-82d6-4280-9f7f-97a05f3454a0"
   },
   "outputs": [
    {
     "name": "stdout",
     "output_type": "stream",
     "text": [
      "9810\n"
     ]
    }
   ],
   "source": [
    "grep -oE '\\w+' bras_cubas.txt |\n",
    "#perl -CS -ne 'print lc' | \n",
    "awk '{print tolower($0)}' |\n",
    "sort |\n",
    "uniq -c |\n",
    "sort -k1,1nr -k2 |\n",
    "wc -l"
   ]
  },
  {
   "cell_type": "code",
   "execution_count": 54,
   "metadata": {},
   "outputs": [
    {
     "name": "stdout",
     "output_type": "stream",
     "text": [
      "\n",
      "real\t0m0,334s\n",
      "user\t0m0,315s\n",
      "sys\t0m0,032s\n",
      "9811\n"
     ]
    }
   ],
   "source": [
    "./confre.sh bras_cubas.txt nostop 999999 | wc -l"
   ]
  },
  {
   "cell_type": "markdown",
   "metadata": {
    "id": "JeTU5GHO1M47"
   },
   "source": [
    "## awk way"
   ]
  },
  {
   "cell_type": "code",
   "execution_count": 50,
   "metadata": {
    "colab": {
     "base_uri": "https://localhost:8080/"
    },
    "id": "jLobGGQA1UCv",
    "outputId": "5c3bca5f-c04a-458b-f31d-be878726cdff"
   },
   "outputs": [
    {
     "name": "stdout",
     "output_type": "stream",
     "text": [
      "9810\n"
     ]
    }
   ],
   "source": [
    "grep -oE '\\w+'  bras_cubas.txt |\n",
    "#perl -CS -ne 'print lc' | \n",
    "awk '{print tolower($0)}' |\n",
    "sort |\n",
    "uniq -c |\n",
    "sort -k1,1nr -k2 |\n",
    "awk 'END{print NR}'"
   ]
  },
  {
   "cell_type": "code",
   "execution_count": 48,
   "metadata": {},
   "outputs": [
    {
     "name": "stdout",
     "output_type": "stream",
     "text": [
      "\n",
      "real\t0m0,327s\n",
      "user\t0m0,306s\n",
      "sys\t0m0,032s\n",
      "9811\n"
     ]
    }
   ],
   "source": [
    "./confre.sh bras_cubas.txt nostop 999999 | wc -l"
   ]
  },
  {
   "cell_type": "markdown",
   "metadata": {
    "id": "UYFp_P331cka"
   },
   "source": [
    "# Quantas palavras únicas foram utilizadas apenas uma vez?"
   ]
  },
  {
   "cell_type": "code",
   "execution_count": 56,
   "metadata": {
    "colab": {
     "base_uri": "https://localhost:8080/"
    },
    "id": "4-rGLWju1jE4",
    "outputId": "0ee110f1-7627-4fba-c7c4-fbcb07ecca0a"
   },
   "outputs": [
    {
     "name": "stdout",
     "output_type": "stream",
     "text": [
      "5983\n"
     ]
    }
   ],
   "source": [
    "grep -oE '\\w+' bras_cubas.txt |\n",
    "#perl -CS -ne 'print lc' | \n",
    "awk '{print tolower($0)}'  |\n",
    "sort |\n",
    "uniq -c |\n",
    "sort -k1,1nr -k2 |\n",
    "grep -c '^ *1.'"
   ]
  },
  {
   "cell_type": "code",
   "execution_count": 55,
   "metadata": {},
   "outputs": [
    {
     "name": "stdout",
     "output_type": "stream",
     "text": [
      "\n",
      "real\t0m0,311s\n",
      "user\t0m0,314s\n",
      "sys\t0m0,026s\n",
      "5983\n"
     ]
    }
   ],
   "source": [
    "./confre.sh bras_cubas.txt nostop 999999 | grep -c '^ *1.'"
   ]
  },
  {
   "cell_type": "markdown",
   "metadata": {
    "id": "Ov87BzyW1tdW"
   },
   "source": [
    "# Qual o vocabulário central do texto?"
   ]
  },
  {
   "cell_type": "code",
   "execution_count": 58,
   "metadata": {
    "colab": {
     "base_uri": "https://localhost:8080/"
    },
    "id": "jexBAxth123c",
    "outputId": "a31e0494-f772-46a2-c538-fa2dd78e2b13"
   },
   "outputs": [
    {
     "name": "stdout",
     "output_type": "stream",
     "text": [
      "1496\n"
     ]
    }
   ],
   "source": [
    "grep -oE '\\w+' bras_cubas.txt |\n",
    "#perl -CS -ne 'print lc' | \n",
    "awk '{print tolower($0)}' |\n",
    "sort |\n",
    "uniq -c |\n",
    "sort -k1,1nr -k2 |\n",
    "awk '$1 >= 5' |\n",
    "wc -l"
   ]
  },
  {
   "cell_type": "code",
   "execution_count": 57,
   "metadata": {},
   "outputs": [
    {
     "name": "stdout",
     "output_type": "stream",
     "text": [
      "\n",
      "real\t0m0,259s\n",
      "user\t0m0,309s\n",
      "sys\t0m0,024s\n",
      "1497\n"
     ]
    }
   ],
   "source": [
    "./confre.sh bras_cubas.txt nostop 999999 | \n",
    "awk '$1 >= 5' |\n",
    "wc -l"
   ]
  },
  {
   "cell_type": "markdown",
   "metadata": {
    "id": "D1rpp_sv6NZY"
   },
   "source": [
    "# Lei de Zipf"
   ]
  },
  {
   "cell_type": "code",
   "execution_count": 59,
   "metadata": {
    "colab": {
     "base_uri": "https://localhost:8080/"
    },
    "id": "NrtbiIWuI__M",
    "outputId": "d954e21f-3426-4238-dca4-a41d6ec52721"
   },
   "outputs": [],
   "source": [
    "cat > zipf_law.sh << 'EOF'\n",
    "#!/bin/bash\n",
    "\n",
    "# Calcula Zipf's Law\n",
    "grep -oE '\\w+' \"$1\" |\n",
    "#perl -CS -ne 'print lc' | \n",
    "awk '{print tolower($0)}' |\n",
    "sed 's/[^a-z]/\\n/g' |\n",
    "sort |\n",
    "uniq -c |\n",
    "sort -k1,1nr |\n",
    "awk '{print NR, $1}' |\n",
    "sed \"${2:-10}q\"\n",
    "EOF"
   ]
  },
  {
   "cell_type": "code",
   "execution_count": 60,
   "metadata": {
    "id": "zC1kki0lJoz7"
   },
   "outputs": [],
   "source": [
    "chmod +x zipf_law.sh"
   ]
  },
  {
   "cell_type": "code",
   "execution_count": null,
   "metadata": {
    "id": "5CxeYgkfQ1zF"
   },
   "outputs": [],
   "source": []
  },
  {
   "cell_type": "code",
   "execution_count": 61,
   "metadata": {
    "colab": {
     "base_uri": "https://localhost:8080/"
    },
    "id": "ZnSkyeMDJstz",
    "outputId": "4d7828ff-8dbf-48c8-cf7e-754ce672617f"
   },
   "outputs": [
    {
     "name": "stdout",
     "output_type": "stream",
     "text": [
      "1 2599\n",
      "2 2203\n",
      "3 2120\n",
      "4 1952\n",
      "5 1794\n",
      "6 1165\n",
      "7 989\n",
      "8 979\n",
      "9 744\n",
      "10 688\n"
     ]
    }
   ],
   "source": [
    "./zipf_law.sh bras_cubas.txt 10 > dados.csv\n",
    "head dados.csv\n",
    "\n"
   ]
  },
  {
   "cell_type": "code",
   "execution_count": 78,
   "metadata": {
    "colab": {
     "base_uri": "https://localhost:8080/",
     "height": 562
    },
    "id": "NfQLZjlcMxpW",
    "outputId": "78186942-b637-43fe-96b8-2ac2b242f826"
   },
   "outputs": [],
   "source": [
    "python <<EOF\n",
    "import pandas as pd\n",
    "import matplotlib.pyplot as plt\n",
    "\n",
    "# Lê o CSV (usando \" \" como delimitador e sem cabeçalho)\n",
    "df = pd.read_csv('dados.csv', sep=' ', header=None, names=['Rank', 'Frequencia'])\n",
    "\n",
    "# Plotagem (escala log-log para verificar Zipf)\n",
    "plt.figure(figsize=(10, 6))\n",
    "plt.loglog(df['Rank'], df['Frequencia'], 'o-', label='Dados Observados')\n",
    "plt.loglog(df['Rank'], [df['Frequencia'][0]/r for r in df['Rank']], 'r--', label='Lei de Zipf (Teórico)')\n",
    "plt.xlabel('Rank (log)')\n",
    "plt.ylabel('Frequência (log)')\n",
    "plt.title('Lei de Zipf - Memórias Póstumas de Brás Cubas')\n",
    "plt.legend()\n",
    "plt.grid()\n",
    "plt.show()\n",
    "EOF"
   ]
  },
  {
   "cell_type": "markdown",
   "metadata": {
    "id": "QDUoiah-7mr0"
   },
   "source": [
    "# Estatísticas básicas"
   ]
  },
  {
   "cell_type": "markdown",
   "metadata": {
    "id": "EVqr2b2q9bsS"
   },
   "source": [
    "**Mínima, Máxima e Média**"
   ]
  },
  {
   "cell_type": "code",
   "execution_count": 66,
   "metadata": {
    "colab": {
     "base_uri": "https://localhost:8080/"
    },
    "id": "E2A1WurA7pF5",
    "outputId": "acfcc7a4-8dd2-42cc-bc26-d75ede2f4e13"
   },
   "outputs": [
    {
     "name": "stdout",
     "output_type": "stream",
     "text": [
      "Min: 1\n",
      "Max: 75451\n",
      "Média: 30.724891\n"
     ]
    }
   ],
   "source": [
    "grep -oE '\\w+' $ARQUIVO_COMPLETO |\n",
    "awk '{print tolower($0)}' |\n",
    "sort |\n",
    "uniq -c |\n",
    "sort -k1,1nr -k2 |\n",
    "awk 'NR == 1 { max=$1; min=$1; sum=0 } { if ($1>max) max=$1; \\\n",
    "if ($1<min) min=$1; sum+=$1;} \\\n",
    "END {printf \"Min: %d\\nMax: %d\\nMédia: %f\\n\", min, max, sum/NR}'"
   ]
  },
  {
   "cell_type": "markdown",
   "metadata": {
    "id": "Q8ZFo_xm9ji4"
   },
   "source": [
    "**Desvio padrão**"
   ]
  },
  {
   "cell_type": "code",
   "execution_count": 67,
   "metadata": {
    "colab": {
     "base_uri": "https://localhost:8080/"
    },
    "id": "TY6QWozz9oFg",
    "outputId": "b20ca640-57e7-4329-9236-dfaef24ddbf5"
   },
   "outputs": [
    {
     "name": "stdout",
     "output_type": "stream",
     "text": [
      "688.478\n"
     ]
    }
   ],
   "source": [
    "grep -oE '\\w+'  $ARQUIVO_COMPLETO |\n",
    "awk '{print tolower($0)}' |\n",
    "sort |\n",
    "uniq -c |\n",
    "sort -k1,1nr -k2 |\n",
    "sort -n |\n",
    "awk '{sum+=$1; sumsq+=$1*$1} END {print sqrt(sumsq/NR - (sum/NR)^2)}'"
   ]
  },
  {
   "cell_type": "markdown",
   "metadata": {
    "id": "qhOrJNVh-ULU"
   },
   "source": [
    "**Média, Mediana e Moda**"
   ]
  },
  {
   "cell_type": "code",
   "execution_count": 68,
   "metadata": {
    "colab": {
     "base_uri": "https://localhost:8080/"
    },
    "id": "aHeQb7IU-ZqZ",
    "outputId": "a9055c90-bbbe-4cc8-da4b-a99bb41a7140"
   },
   "outputs": [
    {
     "name": "stdout",
     "output_type": "stream",
     "text": [
      "Média: 30.7249\n",
      "Mediana: 2\n",
      "Moda: 57\n"
     ]
    }
   ],
   "source": [
    "grep -oE '\\w+'  $ARQUIVO_COMPLETO |\n",
    "awk '{print tolower($0)}' |\n",
    "sort |\n",
    "uniq -c |\n",
    "sort -k1,1nr -k2 |\n",
    "sort -n |\n",
    "awk '{sum+=$1;a[x++]=$1;b[$1]++}b[$1]> Mode{Mode=$1} END \\\n",
    "{print \"Média: \" sum/x \"\\nMediana: \"a[int((x-1)/2)]\"\\nModa: \" Mode}'"
   ]
  },
  {
   "cell_type": "markdown",
   "metadata": {
    "id": "RZKClVuD-3xc"
   },
   "source": [
    "**Another way**"
   ]
  },
  {
   "cell_type": "code",
   "execution_count": 69,
   "metadata": {
    "colab": {
     "base_uri": "https://localhost:8080/"
    },
    "id": "9hjzx_oq-73U",
    "outputId": "9849e1fd-6ed1-4f22-9abd-eefd959eec29"
   },
   "outputs": [
    {
     "name": "stdout",
     "output_type": "stream",
     "text": [
      "Max=75451.000000\n",
      "Min=1.000000\n",
      "Sum=1934009.000000\n",
      "Avg=30.724891\n",
      "SD=688.477895\n",
      "Item=62946\n"
     ]
    }
   ],
   "source": [
    "grep -oE '\\w+' $ARQUIVO_COMPLETO |\n",
    "awk '{print tolower($0)}' |\n",
    "sort |\n",
    "uniq -c |\n",
    "sort -k1,1nr -k2 |\n",
    "sort -n |\n",
    "awk '{v[NR]=$1;sum+=$1}{if($1>max)max=$1; \\\n",
    "if(min>$1)min=$1}NR==1{max=min=$1}END{avg=sum/NR; \\\n",
    "for(n=1;n<=NR;n++)sd+=(v[n]-avg)^2;sd=sqrt(sd/NR); \\\n",
    "printf(\"Max=%f\\nMin=%f\\nSum=%f\\nAvg=%f\\nSD=%f\\nItem=%d\\n\",max,min,sum,avg,sd,NR)}'"
   ]
  },
  {
   "cell_type": "markdown",
   "metadata": {
    "id": "KNi8S0dt_gbT"
   },
   "source": [
    "### **Usando Rscript para calcular estatística básica**"
   ]
  },
  {
   "cell_type": "markdown",
   "metadata": {
    "id": "qHPYa8ZA_sIX"
   },
   "source": [
    "**Opção 1**"
   ]
  },
  {
   "cell_type": "code",
   "execution_count": 70,
   "metadata": {
    "colab": {
     "base_uri": "https://localhost:8080/"
    },
    "id": "hyJpOxhY_u63",
    "outputId": "3eaab7d8-65d6-453c-cce3-2e088f6d88f4"
   },
   "outputs": [
    {
     "name": "stdout",
     "output_type": "stream",
     "text": [
      "1\n",
      "30.72489\n",
      "2\n",
      "75451\n",
      "688.4834\n"
     ]
    }
   ],
   "source": [
    "grep -oE '\\w+' $ARQUIVO_COMPLETO  |\n",
    "awk '{print tolower($0)}' |\n",
    "sort |\n",
    "uniq -c |\n",
    "sort -k1,1nr -k2 |\n",
    "awk '{print $1}' |\n",
    "Rscript -e 'd <-scan(\"stdin\", quiet=TRUE); cat(min(d), mean(d), median(d), max(d), sd(d), sep=\"\\n\")'"
   ]
  },
  {
   "cell_type": "markdown",
   "metadata": {
    "id": "0bS2gSI6C6gN"
   },
   "source": [
    "**Opção 2**"
   ]
  },
  {
   "cell_type": "code",
   "execution_count": 71,
   "metadata": {
    "colab": {
     "base_uri": "https://localhost:8080/"
    },
    "id": "BbmOG5cvDAqW",
    "outputId": "0aa71480-ad15-4ec2-cd70-f7a47c6d0cc8"
   },
   "outputs": [
    {
     "name": "stdout",
     "output_type": "stream",
     "text": [
      "> x <- read.csv('stdin', header = F); summary(x); sd(x[ ,1])\n",
      "       V1          \n",
      " Min.   :    1.00  \n",
      " 1st Qu.:    1.00  \n",
      " Median :    2.00  \n",
      " Mean   :   30.72  \n",
      " 3rd Qu.:    7.00  \n",
      " Max.   :75451.00  \n",
      "[1] 688.4834\n",
      "> \n",
      "> \n"
     ]
    }
   ],
   "source": [
    "grep -oE '\\w+' $ARQUIVO_COMPLETO |\n",
    "awk '{print tolower($0)}' |\n",
    "sort |\n",
    "uniq -c |\n",
    "sort -k1,1nr -k2 |\n",
    "awk '{print $1}' |\n",
    "R -q -e \"x <- read.csv('stdin', header = F); summary(x); sd(x[ ,1])\""
   ]
  },
  {
   "cell_type": "markdown",
   "metadata": {
    "id": "0yuLxm6J_jzn"
   },
   "source": [
    "# Para localizar palavra separadas por hífen"
   ]
  },
  {
   "cell_type": "code",
   "execution_count": 72,
   "metadata": {
    "colab": {
     "base_uri": "https://localhost:8080/"
    },
    "id": "b9_rZuNGDlhW",
    "outputId": "04d68722-c31d-4e8a-e924-b83aba2191ac"
   },
   "outputs": [
    {
     "name": "stdout",
     "output_type": "stream",
     "text": [
      "texto-fonte:\n",
      "vendeu-se,\n",
      "fazer-me\n",
      "sei-o,\n",
      "dou-me\n",
      "afastar-me\n",
      "dar-lhe-ei\n",
      "encontro-o\n",
      "além-mar,\n",
      "anuncia-se\n"
     ]
    }
   ],
   "source": [
    "awk '{print tolower($0)}' $ARQUIVO_COMPLETO |\n",
    "awk '{for(i=1;i<=NF;i++){if($i~/-/){print $i}}}' |\n",
    "head -10"
   ]
  },
  {
   "cell_type": "markdown",
   "metadata": {
    "id": "8qRXyMtl785b"
   },
   "source": [
    "# Concordância"
   ]
  },
  {
   "cell_type": "code",
   "execution_count": 73,
   "metadata": {
    "colab": {
     "base_uri": "https://localhost:8080/"
    },
    "id": "Ob_8ImdTl8cd",
    "outputId": "f81cf508-560c-488f-ade3-8d5ec4f81d7c"
   },
   "outputs": [
    {
     "name": "stdout",
     "output_type": "stream",
     "text": [
      "          ndiscrição, félix, disse meneses ao cabo de alguns minutos          \n",
      "          rsa tomou outra direção. meneses ainda tentou falar da moç          \n",
      "          nada, mas triste. quando meneses entrou na sala estava ela          \n",
      "          ão há indiscrição, disse meneses depois de a ver entrar em          \n",
      "          filha do coronel e o dr. meneses se amassem, e eles não se          \n",
      "          uetes de sua imaginação. meneses facilmente entreviu um mu          \n",
      "          eição, que o espírito de meneses para logo sentiu reflorir          \n",
      "          me não pode dar! repetiu meneses apegando-se ainda a uma e          \n",
      "           que dava para o jardim. meneses não ousava levantar os ol          \n",
      "          dados retiraram-se cedo. meneses e félix foram os últimos           \n",
      "           noivo era inexplicável; meneses suspeitou a verdade e raq          \n",
      "          ; pediu a intervenção de meneses para a reconciliação do m          \n",
      "          o moleque abriu a porta, meneses entrou afoitamente atrás           \n",
      "           vezes falaram na carta. meneses perguntou ao médico em qu          \n",
      "          ápidos esses momentos, e meneses voltava logo aos seus mod          \n",
      "          soube das disposições de meneses e recebeu o anúncio de um          \n",
      "          seus admiradores, como o meneses do jornal, e seus crítico          \n"
     ]
    }
   ],
   "source": [
    "awk '{print tolower($0)}' $ARQUIVO_COMPLETO |\n",
    "grep -Eo \".{25}meneses .{25}\" |\n",
    "sed  -e :a -e 's/^.\\{1,77\\}$/ & /; ta'"
   ]
  },
  {
   "cell_type": "code",
   "execution_count": 74,
   "metadata": {
    "colab": {
     "base_uri": "https://localhost:8080/"
    },
    "id": "TkyOGnxMGl8_",
    "outputId": "8df03089-15d8-446d-eb4d-d218e384772d"
   },
   "outputs": [
    {
     "name": "stdout",
     "output_type": "stream",
     "text": [
      "           timas notícias de buenos aires dizem que o chefe da depu           \n",
      "           io e no rosto. de buenos aires chegara-lhe na véspera, à           \n",
      "           rio guaicuru, que vem em aires do casal, a palavra nioxe           \n",
      "            se ele passar de buenos aires ao resto do mundo: o que            \n",
      "           nte, o delírio de buenos aires chegou até cá, e o erro f           \n",
      "           l da província de buenos aires por outra, mas de tirar à           \n",
      "           armiento chegou a buenos-aires e tomou conta do governo,           \n",
      "           ponto escasso. de buenos-aires contava eu que viesse uma           \n",
      "           um convite ao voltarete. aires não teve ânimo de aceitar           \n",
      "           ram visitar um ao outro; aires viria jantar às quintas-f           \n",
      "           de moléstia dele, ao que aires replicou que não adoecia            \n",
      "           do cansa, até a solidão. aires entrou a sentir uma ponta           \n",
      "           primeira vez, porém, que aires foi a são clemente, flora           \n",
      "           e o velho pelos rapazes. aires não se demorou mais que o           \n",
      "           cumpria fazer mais útil. aires entendeu que eram ardores           \n",
      "            morreu pouco a pouco, e aires entrou na secretaria do i           \n",
      "           ntão?... perguntarás tu. aires não perguntou nada. ao ca           \n",
      "           o posso dar a toada, mas aires ainda a trazia de cor, e            \n",
      "           s redondos do animal viu aires uma expressão profunda de           \n",
      "           idade interveio a tempo. aires pôs água na fervura, dize           \n",
      "           l era violento e áspero. aires sentiu-lhe aquilo que, em           \n",
      "           amente para o anfitrião. aires não podia negar a si mesm           \n",
      "           a um capítulo. o próprio aires não descobriu nada, por m           \n",
      "           or ou prurido, ao menos. aires perguntava-lhe se nunca l           \n",
      "           de obter o que quisesse. aires viu que ela exagerava par           \n",
      "           enquanto ele fazia isto, aires passava os olhos pela lom           \n",
      "           sulta, e só esperava que aires fechasse o livro para sol           \n",
      "           e era clara e tranqüila. aires recompôs uma parte do ser           \n",
      "            lhe fez tal ponderação, aires achoua justa, e gostou de           \n",
      "           urvou-se, recuou e saiu. aires foi à janela para vê-lo a           \n",
      "            de tão graves sucessos, aires tivesse bastante pausa e            \n",
      "           nuar. toda a animação de aires tinha agora brotado nele,           \n",
      "           s há, — escrevia o nosso aires — em que a impassibilidad           \n",
      "           reciso dizer que o nosso aires não se referia vagamente            \n",
      "           gnidade pessoal da casa, aires fez a observação do fim d           \n",
      "           ão por alguns instantes. aires ficou a olhar para a rua,           \n",
      "           m dali a um restaurante. aires disse-lhes que, antigamen           \n",
      "           terlocutor. por mais que aires abrisse as portas à franq           \n",
      "           à quitandinha, a cavalo. aires acompanhava-os, e não diz           \n",
      "           ue estava em petrópolis, aires não ia jantar a andaraí,            \n",
      "           o mesmo aperto de mão de aires e flora, se foi demorado,           \n",
      "           saros, um vaso à janela. aires ia folheando, cheio de cu           \n",
      "           ica, mas não ouviu nada. aires acabou de observar as dua           \n",
      "            ouvindo esta conclusão, aires fez um gesto afirmativo,            \n",
      "            natividade lhe merecia, aires não insistiu na opinião,            \n"
     ]
    }
   ],
   "source": [
    "awk '{print tolower($0)}' $ARQUIVO_COMPLETO |\n",
    "grep -Eo \".{25}aires .{25}\" |\n",
    "sed  -e :a -e 's/^.\\{1,77\\}$/ & /; ta'"
   ]
  },
  {
   "cell_type": "markdown",
   "metadata": {
    "id": "rZcQ4E4vfwgE"
   },
   "source": []
  }
 ],
 "metadata": {
  "colab": {
   "provenance": []
  },
  "kernelspec": {
   "display_name": "Bash",
   "language": "bash",
   "name": "bash"
  },
  "language_info": {
   "codemirror_mode": "shell",
   "file_extension": ".sh",
   "mimetype": "text/x-sh",
   "name": "bash"
  }
 },
 "nbformat": 4,
 "nbformat_minor": 4
}
